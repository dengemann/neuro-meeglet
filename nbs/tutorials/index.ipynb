{
 "cells": [
  {
   "cell_type": "raw",
   "id": "39fd2676",
   "metadata": {},
   "source": [
    "---\n",
    "title: Python tutorials\n",
    "listing:\n",
    "  fields: [title, description]\n",
    "  type: grid\n",
    "  sort-ui: false\n",
    "  filter-ui: false\n",
    "---"
   ]
  }
 ],
 "metadata": {
  "kernelspec": {
   "display_name": "meeglet",
   "language": "python",
   "name": "meeglet"
  },
  "language_info": {
   "codemirror_mode": {
    "name": "ipython",
    "version": 3
   },
   "file_extension": ".py",
   "mimetype": "text/x-python",
   "name": "python",
   "nbconvert_exporter": "python",
   "pygments_lexer": "ipython3",
   "version": "3.10.13"
  }
 },
 "nbformat": 4,
 "nbformat_minor": 5
}
